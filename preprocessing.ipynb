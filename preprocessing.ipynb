{
 "cells": [
  {
   "cell_type": "markdown",
   "id": "57d8943d",
   "metadata": {},
   "source": [
    "# Used Dataset link : http://mmlab.ie.cuhk.edu.hk/projects/DeepFashion/AttributePrediction.html\n",
    "References : Tensorflow  : https://keras.io/getting_started/\n",
    "           :ResNet:   https://huggingface.co/docs/transformers/model_doc/resnet"
   ]
  },
  {
   "cell_type": "code",
   "execution_count": 1,
   "id": "728fe0e7",
   "metadata": {},
   "outputs": [],
   "source": [
    "import pandas as pd\n",
    "import numpy as npb\n",
    "import cv2\n"
   ]
  },
  {
   "cell_type": "code",
   "execution_count": 3,
   "id": "be4e88de",
   "metadata": {},
   "outputs": [],
   "source": [
    "path = 'C:\\Users\\pramod76\\Desktop\\DS_Project\\DeepLearning\\fashion-recommendation/vali_modified.csv'\n",
    "df = pd.read_csv('C:/Users/pramod76/Desktop/DS_Project/DeepLearning/fashion-recommendation/vali_modified.csv')"
   ]
  },
  {
   "cell_type": "code",
   "execution_count": 6,
   "id": "f6eacfb2",
   "metadata": {},
   "outputs": [],
   "source": [
    "image_path_array = df['image_path'].as_matrix()\n",
    "label_array = df['category'].as_matrix()\n",
    "x1 = df['x1'].as_matrix().astype(np.float32)\n",
    "y1 = df['y1'].as_matrix().astype(np.float32)\n",
    "x2 = df['x2'].as_matrix().astype(np.float32)\n",
    "y2 = df['y2'].as_matrix().astype(np.float32)"
   ]
  },
  {
   "cell_type": "code",
   "execution_count": 7,
   "id": "f8e132f5",
   "metadata": {},
   "outputs": [],
   "source": [
    "for i in range(len(image_path_array)):\n",
    "    path = image_path_array[i]\n",
    "    img = cv2.imread(path)\n",
    "    if img is None:\n",
    "        continue\n",
    "    h = img.shape[0]\n",
    "    w = img.shape[1]\n",
    "\n",
    "    x1[i] = x1[i] * 1.0 /w\n",
    "    x2[i] = x2[i] * 1.0/ w\n",
    "    y1[i] = y1[i] * 1.0/ h\n",
    "    y2[i] = y2[i] * 1.0/ h\n"
   ]
  },
  {
   "cell_type": "code",
   "execution_count": 8,
   "id": "920eacac",
   "metadata": {},
   "outputs": [],
   "source": [
    "df['x1_modified'] = pd.DataFrame(x1)\n",
    "df['y1_modified'] = pd.DataFrame(y1)#df['x2_modified'] = pd.DataFrame(x2)#df['y2_modified'] = pd.DataFrame(y2)\n",
    "\n",
    "df.to_csv('C:/Users/pramod76/Desktop/DS_Project/DeepLearning/fashion-recommendation/vali_modified2.csv', index=False)\n",
    "print(df.head())"
   ]
  },
  {
   "cell_type": "code",
   "execution_count": null,
   "id": "a03cb935",
   "metadata": {},
   "outputs": [],
   "source": []
  }
 ],
 "metadata": {
  "kernelspec": {
   "display_name": "Python 3",
   "language": "python",
   "name": "python3"
  },
  "language_info": {
   "codemirror_mode": {
    "name": "ipython",
    "version": 3
   },
   "file_extension": ".py",
   "mimetype": "text/x-python",
   "name": "python",
   "nbconvert_exporter": "python",
   "pygments_lexer": "ipython3",
   "version": "3.8.8"
  }
 },
 "nbformat": 4,
 "nbformat_minor": 5
}
