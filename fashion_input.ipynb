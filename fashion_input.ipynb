{
 "cells": [
  {
   "cell_type": "code",
   "execution_count": 23,
   "id": "9a200685",
   "metadata": {},
   "outputs": [],
   "source": [
    "# Here we're putting our input parametrs\n",
    "import cv2\n",
    "import numpy as np\n",
    "import pandas as pd"
   ]
  },
  {
   "cell_type": "code",
   "execution_count": 24,
   "id": "0b81efcb",
   "metadata": {},
   "outputs": [],
   "source": [
    "import tensorflow.compat.v1 as tf\n",
    "FLAGS = tf.app.flags.FLAGS"
   ]
  },
  {
   "cell_type": "code",
   "execution_count": 26,
   "id": "26aa34a3",
   "metadata": {},
   "outputs": [
    {
     "data": {
      "text/plain": [
       "'shuffle = True\\nlocalization = FLAGS.is_localization\\nimageNet_mean_pixel = [103.939, 116.799, 123.68]\\nglobal_std = 68.76\\n\\nIMG_ROWS = 64\\nIMG_COLS = 64'"
      ]
     },
     "execution_count": 26,
     "metadata": {},
     "output_type": "execute_result"
    }
   ],
   "source": [
    "shuffle = True\n",
    "localization = FLAGS.is_localization\n",
    "imageNet_mean_pixel = [103.939, 116.799, 123.68]\n",
    "global_std = 68.76\n",
    "\n",
    "IMG_ROWS = 64\n",
    "IMG_COLS = 64"
   ]
  },
  {
   "cell_type": "code",
   "execution_count": 27,
   "id": "aeb37332",
   "metadata": {},
   "outputs": [
    {
     "data": {
      "text/plain": [
       "\"def get_image(path, x1, y1, x2, y2):\\n    '''\\n    :param path: image path\\n    :param x1: the upper left and lower right coordinates to localize the apparels\\n    :param y1:\\n    :param x2:\\n    :param y2:\\n    :return: a numpy array with dimensions [img_row, img_col, img_depth]\\n    '''\\n    img = cv2.imread(path)\\n    if localization is True:\\n        if img is None or img.shape[0] == 0 or img.shape[1] == 0:\\n            img = np.zeros((1, IMG_ROWS, IMG_COLS, 0))\\n        img = cv2.resize(img, (IMG_ROWS, IMG_COLS))\\n        assert img.shape == (IMG_ROWS, IMG_COLS, 3)\\n    else:\\n        img = cv2.resize(img, (IMG_ROWS, IMG_COLS))\\n\\n    img = img.reshape(1, IMG_ROWS, IMG_COLS, 3)\\n\\n    return img\""
      ]
     },
     "execution_count": 27,
     "metadata": {},
     "output_type": "execute_result"
    }
   ],
   "source": [
    "def get_image(path, x1, y1, x2, y2):\n",
    "    '''\n",
    "    :param path: image path\n",
    "    :param x1: the upper left and lower right coordinates to localize the apparels\n",
    "    :param y1:\n",
    "    :param x2:\n",
    "    :param y2:\n",
    "    :return: a numpy array with dimensions [img_row, img_col, img_depth]\n",
    "    '''\n",
    "    img = cv2.imread(path)\n",
    "    if localization is True:\n",
    "        if img is None or img.shape[0] == 0 or img.shape[1] == 0:\n",
    "            img = np.zeros((1, IMG_ROWS, IMG_COLS, 0))\n",
    "        img = cv2.resize(img, (IMG_ROWS, IMG_COLS))\n",
    "        assert img.shape == (IMG_ROWS, IMG_COLS, 3)\n",
    "    else:\n",
    "        img = cv2.resize(img, (IMG_ROWS, IMG_COLS))\n",
    "\n",
    "    img = img.reshape(1, IMG_ROWS, IMG_COLS, 3)\n",
    "\n",
    "    return img"
   ]
  },
  {
   "cell_type": "code",
   "execution_count": 28,
   "id": "3f57de5b",
   "metadata": {},
   "outputs": [
    {
     "data": {
      "text/plain": [
       "\"def load_data_numpy(df):\\n    num_images = len(df)\\n    image_path_array = df['image_path'].as_matrix()\\n    label_array = df['category'].as_matrix()\\n    x1 = df['x1_modified'].as_matrix().reshape(-1, 1)\\n    y1 = df['y1_modified'].as_matrix().reshape(-1, 1)\\n    x2 = df['x2_modified'].as_matrix().reshape(-1, 1)\\n    y2 = df['y2_modified'].as_matrix().reshape(-1, 1)\\n    bbox_array = np.concatenate((x1, y1, x2, y2), axis=1)\\n\\n    image_array = np.array([]).reshape(-1, IMG_ROWS, IMG_COLS, 3)\\n    adjusted_std = 1.0/np.sqrt(IMG_COLS * IMG_ROWS * 3)\\n\\n    for i in range(num_images):\\n        img = get_image(image_path_array[i], x1=x1[i, 0], y1=y1[i, 0], x2=x2[i, 0], y2=y2[i, 0])\\n        flip_indicator = np.random.randint(low=0, high=2)\\n        if flip_indicator == 0:\\n            img[0, ...] = cv2.flip(img[0, ...], 1)\\n\\n        image_array = np.concatenate((image_array, img))\\n\\n    image_array = (image_array - imageNet_mean_pixel) / global_std\\n \\n    assert image_array.shape[1:] == (IMG_ROWS, IMG_COLS, 3)\\n  \\n    return image_array, label_array, bbox_array\\n\""
      ]
     },
     "execution_count": 28,
     "metadata": {},
     "output_type": "execute_result"
    }
   ],
   "source": [
    "def load_data_numpy(df):\n",
    "    num_images = len(df)\n",
    "    image_path_array = df['image_path'].as_matrix()\n",
    "    label_array = df['category'].as_matrix()\n",
    "    x1 = df['x1_modified'].as_matrix().reshape(-1, 1)\n",
    "    y1 = df['y1_modified'].as_matrix().reshape(-1, 1)\n",
    "    x2 = df['x2_modified'].as_matrix().reshape(-1, 1)\n",
    "    y2 = df['y2_modified'].as_matrix().reshape(-1, 1)\n",
    "    bbox_array = np.concatenate((x1, y1, x2, y2), axis=1)\n",
    "\n",
    "    image_array = np.array([]).reshape(-1, IMG_ROWS, IMG_COLS, 3)\n",
    "    adjusted_std = 1.0/np.sqrt(IMG_COLS * IMG_ROWS * 3)\n",
    "\n",
    "    for i in range(num_images):\n",
    "        img = get_image(image_path_array[i], x1=x1[i, 0], y1=y1[i, 0], x2=x2[i, 0], y2=y2[i, 0])\n",
    "        flip_indicator = np.random.randint(low=0, high=2)\n",
    "        if flip_indicator == 0:\n",
    "            img[0, ...] = cv2.flip(img[0, ...], 1)\n",
    "\n",
    "        image_array = np.concatenate((image_array, img))\n",
    "\n",
    "    image_array = (image_array - imageNet_mean_pixel) / global_std\n",
    " \n",
    "    assert image_array.shape[1:] == (IMG_ROWS, IMG_COLS, 3)\n",
    "  \n",
    "    return image_array, label_array, bbox_array"
   ]
  },
  {
   "cell_type": "code",
   "execution_count": 29,
   "id": "79981028",
   "metadata": {},
   "outputs": [
    {
     "data": {
      "text/plain": [
       "'def prepare_df(path, usecols, shuffle=shuffle):\\n    df = pd.read_csv(path, usecols=usecols)\\n    if shuffle is True:\\n        order = np.random.permutation(len(df))\\n        df = df.iloc[order, :]\\n    return df'"
      ]
     },
     "execution_count": 29,
     "metadata": {},
     "output_type": "execute_result"
    }
   ],
   "source": [
    "def prepare_df(path, usecols, shuffle=shuffle):\n",
    "    df = pd.read_csv(path, usecols=usecols)\n",
    "    if shuffle is True:\n",
    "        order = np.random.permutation(len(df))\n",
    "        df = df.iloc[order, :]\n",
    "    return df"
   ]
  },
  {
   "cell_type": "code",
   "execution_count": null,
   "id": "29671918",
   "metadata": {},
   "outputs": [],
   "source": []
  }
 ],
 "metadata": {
  "kernelspec": {
   "display_name": "Python 3",
   "language": "python",
   "name": "python3"
  },
  "language_info": {
   "codemirror_mode": {
    "name": "ipython",
    "version": 3
   },
   "file_extension": ".py",
   "mimetype": "text/x-python",
   "name": "python",
   "nbconvert_exporter": "python",
   "pygments_lexer": "ipython3",
   "version": "3.8.8"
  }
 },
 "nbformat": 4,
 "nbformat_minor": 5
}
