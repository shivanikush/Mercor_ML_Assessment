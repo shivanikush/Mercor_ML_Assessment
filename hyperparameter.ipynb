{
 "cells": [
  {
   "cell_type": "code",
   "execution_count": 5,
   "id": "49667ff7",
   "metadata": {},
   "outputs": [],
   "source": [
    "#import tensorflow as tf\n",
    "import tensorflow.compat.v1 as tf"
   ]
  },
  {
   "cell_type": "code",
   "execution_count": 6,
   "id": "d954f4f1",
   "metadata": {},
   "outputs": [],
   "source": [
    "FLAGS = tf.app.flags.FLAGS"
   ]
  },
  {
   "cell_type": "code",
   "execution_count": 8,
   "id": "a17867c6",
   "metadata": {},
   "outputs": [
    {
     "data": {
      "text/plain": [
       "<absl.flags._flagvalues.FlagHolder at 0x29d79b68940>"
      ]
     },
     "execution_count": 8,
     "metadata": {},
     "output_type": "execute_result"
    }
   ],
   "source": [
    "tf.app.flags.DEFINE_string('version', 'exp1', '''version number of this experiment''')"
   ]
  },
  {
   "cell_type": "code",
   "execution_count": 9,
   "id": "b4aa88ac",
   "metadata": {},
   "outputs": [
    {
     "data": {
      "text/plain": [
       "<absl.flags._flagvalues.FlagHolder at 0x29d79d78640>"
      ]
     },
     "execution_count": 9,
     "metadata": {},
     "output_type": "execute_result"
    }
   ],
   "source": [
    "tf.app.flags.DEFINE_string('train_path', 'data/train_modified2.csv', '''path to the train image\n",
    "list csv''')\n",
    "tf.app.flags.DEFINE_string('vali_path', 'data/vali_modified2.csv', '''path to the validation\n",
    "image list csv''')\n",
    "tf.app.flags.DEFINE_string('test_path', 'data/vali_modified2.csv', '''path to the test image list\n",
    "csv''')\n",
    "tf.app.flags.DEFINE_string('fc_path', 'data/downloaded_test_fc.csv', '''path to save the feature\n",
    "layer values of the test data''')\n",
    "tf.app.flags.DEFINE_string('test_ckpt_path', 'cache/logs_v3_9/min_model.ckpt-27280',\n",
    "                           '''checkpoint to load when testing''')\n",
    "tf.app.flags.DEFINE_string('ckpt_path', 'logs_v3_10/model.ckpt-59999',\n",
    "                           '''checkpoint to load when continue training''')"
   ]
  },
  {
   "cell_type": "code",
   "execution_count": 10,
   "id": "1dd88572",
   "metadata": {},
   "outputs": [
    {
     "data": {
      "text/plain": [
       "<absl.flags._flagvalues.FlagHolder at 0x29d79d78790>"
      ]
     },
     "execution_count": 10,
     "metadata": {},
     "output_type": "execute_result"
    }
   ],
   "source": [
    "## Hyper-paramters about training\n",
    "tf.app.flags.DEFINE_float('weight_decay', 0.00025, '''scale for l2 regularization''')\n",
    "tf.app.flags.DEFINE_float('fc_weight_decay', 0.00025, '''scale for fully connected layer's l2\n",
    "regularization''')\n",
    "tf.app.flags.DEFINE_float('learning_rate', 0.01, '''Learning rate''')\n",
    "tf.app.flags.DEFINE_boolean('continue_train_ckpt', False, '''Whether to continue training from a\n",
    "checkpoint''')"
   ]
  },
  {
   "cell_type": "code",
   "execution_count": 11,
   "id": "a0df7f2c",
   "metadata": {},
   "outputs": [
    {
     "data": {
      "text/plain": [
       "<absl.flags._flagvalues.FlagHolder at 0x29d534a37f0>"
      ]
     },
     "execution_count": 11,
     "metadata": {},
     "output_type": "execute_result"
    }
   ],
   "source": [
    "\n",
    "## Hyper-parameters about the model\n",
    "tf.app.flags.DEFINE_integer('num_residual_blocks', 2, '''number of residual blocks in ResNet''')\n",
    "tf.app.flags.DEFINE_boolean('is_localization', True, '''Add localization task or not''')\n"
   ]
  },
  {
   "cell_type": "code",
   "execution_count": null,
   "id": "9ed2c807",
   "metadata": {},
   "outputs": [],
   "source": []
  }
 ],
 "metadata": {
  "kernelspec": {
   "display_name": "Python 3",
   "language": "python",
   "name": "python3"
  },
  "language_info": {
   "codemirror_mode": {
    "name": "ipython",
    "version": 3
   },
   "file_extension": ".py",
   "mimetype": "text/x-python",
   "name": "python",
   "nbconvert_exporter": "python",
   "pygments_lexer": "ipython3",
   "version": "3.8.8"
  }
 },
 "nbformat": 4,
 "nbformat_minor": 5
}
